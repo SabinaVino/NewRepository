{
  "nbformat": 4,
  "nbformat_minor": 0,
  "metadata": {
    "colab": {
      "provenance": []
    },
    "kernelspec": {
      "name": "python3",
      "display_name": "Python 3"
    },
    "language_info": {
      "name": "python"
    }
  },
  "cells": [
    {
      "cell_type": "code",
      "execution_count": 1,
      "metadata": {
        "id": "M-9O2mgni92D"
      },
      "outputs": [],
      "source": [
        "import pandas as pd\n",
        "from sklearn.model_selection import train_test_split\n",
        "from sklearn.linear_model import LinearRegression,Ridge,Lasso,ElasticNet\n",
        "from datetime import datetime\n",
        "import holidays\n",
        "from scipy.spatial import transform\n",
        "from sklearn.preprocessing import StandardScaler\n",
        "from sklearn.metrics import r2_score\n",
        "from sklearn.metrics import mean_squared_error as mse\n",
        "from sklearn.neighbors import KNeighborsRegressor\n",
        "from sklearn.tree import DecisionTreeRegressor\n",
        "from sklearn.svm import SVR\n",
        "from sklearn.linear_model import SGDRegressor\n",
        "from sklearn.svm import LinearSVR\n",
        "import matplotlib.pyplot as plt\n",
        "import seaborn as sb\n",
        "from sklearn.model_selection import KFold,cross_val_score"
      ]
    },
    {
      "cell_type": "code",
      "source": [
        "df=pd.read_csv('https://raw.githubusercontent.com/SabinaVino/NewRepository/SabinaVino-patch-2/testcsv/p01.csv',sep=';')"
      ],
      "metadata": {
        "id": "4wCGgF9ZjKIo"
      },
      "execution_count": 3,
      "outputs": []
    },
    {
      "cell_type": "code",
      "source": [
        "df.head()"
      ],
      "metadata": {
        "colab": {
          "base_uri": "https://localhost:8080/",
          "height": 206
        },
        "id": "syQyx7FnjM0U",
        "outputId": "13076207-70be-47c6-8b1e-2bf382c6ae2e"
      },
      "execution_count": 4,
      "outputs": [
        {
          "output_type": "execute_result",
          "data": {
            "text/plain": [
              "   itml.calday  cal.weekday1 pl.zcomdir flag_p flag_pl  podcatge        nns\n",
              "0     20220101             6       CD05  Promo   Brand    250202     544.56\n",
              "1     20220101             6       CD04  Promo   Brand    250205     125.67\n",
              "2     20220101             6       CD06  Promo   Brand    250205     773.38\n",
              "3     20220101             6       CD04  Promo   Brand    250301   31720.97\n",
              "4     20220101             6       CD05  Promo   Brand    250301  113181.22"
            ],
            "text/html": [
              "\n",
              "  <div id=\"df-dbe8268c-1ccc-48ff-a7d4-b69265a56c6b\">\n",
              "    <div class=\"colab-df-container\">\n",
              "      <div>\n",
              "<style scoped>\n",
              "    .dataframe tbody tr th:only-of-type {\n",
              "        vertical-align: middle;\n",
              "    }\n",
              "\n",
              "    .dataframe tbody tr th {\n",
              "        vertical-align: top;\n",
              "    }\n",
              "\n",
              "    .dataframe thead th {\n",
              "        text-align: right;\n",
              "    }\n",
              "</style>\n",
              "<table border=\"1\" class=\"dataframe\">\n",
              "  <thead>\n",
              "    <tr style=\"text-align: right;\">\n",
              "      <th></th>\n",
              "      <th>itml.calday</th>\n",
              "      <th>cal.weekday1</th>\n",
              "      <th>pl.zcomdir</th>\n",
              "      <th>flag_p</th>\n",
              "      <th>flag_pl</th>\n",
              "      <th>podcatge</th>\n",
              "      <th>nns</th>\n",
              "    </tr>\n",
              "  </thead>\n",
              "  <tbody>\n",
              "    <tr>\n",
              "      <th>0</th>\n",
              "      <td>20220101</td>\n",
              "      <td>6</td>\n",
              "      <td>CD05</td>\n",
              "      <td>Promo</td>\n",
              "      <td>Brand</td>\n",
              "      <td>250202</td>\n",
              "      <td>544.56</td>\n",
              "    </tr>\n",
              "    <tr>\n",
              "      <th>1</th>\n",
              "      <td>20220101</td>\n",
              "      <td>6</td>\n",
              "      <td>CD04</td>\n",
              "      <td>Promo</td>\n",
              "      <td>Brand</td>\n",
              "      <td>250205</td>\n",
              "      <td>125.67</td>\n",
              "    </tr>\n",
              "    <tr>\n",
              "      <th>2</th>\n",
              "      <td>20220101</td>\n",
              "      <td>6</td>\n",
              "      <td>CD06</td>\n",
              "      <td>Promo</td>\n",
              "      <td>Brand</td>\n",
              "      <td>250205</td>\n",
              "      <td>773.38</td>\n",
              "    </tr>\n",
              "    <tr>\n",
              "      <th>3</th>\n",
              "      <td>20220101</td>\n",
              "      <td>6</td>\n",
              "      <td>CD04</td>\n",
              "      <td>Promo</td>\n",
              "      <td>Brand</td>\n",
              "      <td>250301</td>\n",
              "      <td>31720.97</td>\n",
              "    </tr>\n",
              "    <tr>\n",
              "      <th>4</th>\n",
              "      <td>20220101</td>\n",
              "      <td>6</td>\n",
              "      <td>CD05</td>\n",
              "      <td>Promo</td>\n",
              "      <td>Brand</td>\n",
              "      <td>250301</td>\n",
              "      <td>113181.22</td>\n",
              "    </tr>\n",
              "  </tbody>\n",
              "</table>\n",
              "</div>\n",
              "      <button class=\"colab-df-convert\" onclick=\"convertToInteractive('df-dbe8268c-1ccc-48ff-a7d4-b69265a56c6b')\"\n",
              "              title=\"Convert this dataframe to an interactive table.\"\n",
              "              style=\"display:none;\">\n",
              "        \n",
              "  <svg xmlns=\"http://www.w3.org/2000/svg\" height=\"24px\"viewBox=\"0 0 24 24\"\n",
              "       width=\"24px\">\n",
              "    <path d=\"M0 0h24v24H0V0z\" fill=\"none\"/>\n",
              "    <path d=\"M18.56 5.44l.94 2.06.94-2.06 2.06-.94-2.06-.94-.94-2.06-.94 2.06-2.06.94zm-11 1L8.5 8.5l.94-2.06 2.06-.94-2.06-.94L8.5 2.5l-.94 2.06-2.06.94zm10 10l.94 2.06.94-2.06 2.06-.94-2.06-.94-.94-2.06-.94 2.06-2.06.94z\"/><path d=\"M17.41 7.96l-1.37-1.37c-.4-.4-.92-.59-1.43-.59-.52 0-1.04.2-1.43.59L10.3 9.45l-7.72 7.72c-.78.78-.78 2.05 0 2.83L4 21.41c.39.39.9.59 1.41.59.51 0 1.02-.2 1.41-.59l7.78-7.78 2.81-2.81c.8-.78.8-2.07 0-2.86zM5.41 20L4 18.59l7.72-7.72 1.47 1.35L5.41 20z\"/>\n",
              "  </svg>\n",
              "      </button>\n",
              "      \n",
              "  <style>\n",
              "    .colab-df-container {\n",
              "      display:flex;\n",
              "      flex-wrap:wrap;\n",
              "      gap: 12px;\n",
              "    }\n",
              "\n",
              "    .colab-df-convert {\n",
              "      background-color: #E8F0FE;\n",
              "      border: none;\n",
              "      border-radius: 50%;\n",
              "      cursor: pointer;\n",
              "      display: none;\n",
              "      fill: #1967D2;\n",
              "      height: 32px;\n",
              "      padding: 0 0 0 0;\n",
              "      width: 32px;\n",
              "    }\n",
              "\n",
              "    .colab-df-convert:hover {\n",
              "      background-color: #E2EBFA;\n",
              "      box-shadow: 0px 1px 2px rgba(60, 64, 67, 0.3), 0px 1px 3px 1px rgba(60, 64, 67, 0.15);\n",
              "      fill: #174EA6;\n",
              "    }\n",
              "\n",
              "    [theme=dark] .colab-df-convert {\n",
              "      background-color: #3B4455;\n",
              "      fill: #D2E3FC;\n",
              "    }\n",
              "\n",
              "    [theme=dark] .colab-df-convert:hover {\n",
              "      background-color: #434B5C;\n",
              "      box-shadow: 0px 1px 3px 1px rgba(0, 0, 0, 0.15);\n",
              "      filter: drop-shadow(0px 1px 2px rgba(0, 0, 0, 0.3));\n",
              "      fill: #FFFFFF;\n",
              "    }\n",
              "  </style>\n",
              "\n",
              "      <script>\n",
              "        const buttonEl =\n",
              "          document.querySelector('#df-dbe8268c-1ccc-48ff-a7d4-b69265a56c6b button.colab-df-convert');\n",
              "        buttonEl.style.display =\n",
              "          google.colab.kernel.accessAllowed ? 'block' : 'none';\n",
              "\n",
              "        async function convertToInteractive(key) {\n",
              "          const element = document.querySelector('#df-dbe8268c-1ccc-48ff-a7d4-b69265a56c6b');\n",
              "          const dataTable =\n",
              "            await google.colab.kernel.invokeFunction('convertToInteractive',\n",
              "                                                     [key], {});\n",
              "          if (!dataTable) return;\n",
              "\n",
              "          const docLinkHtml = 'Like what you see? Visit the ' +\n",
              "            '<a target=\"_blank\" href=https://colab.research.google.com/notebooks/data_table.ipynb>data table notebook</a>'\n",
              "            + ' to learn more about interactive tables.';\n",
              "          element.innerHTML = '';\n",
              "          dataTable['output_type'] = 'display_data';\n",
              "          await google.colab.output.renderOutput(dataTable, element);\n",
              "          const docLink = document.createElement('div');\n",
              "          docLink.innerHTML = docLinkHtml;\n",
              "          element.appendChild(docLink);\n",
              "        }\n",
              "      </script>\n",
              "    </div>\n",
              "  </div>\n",
              "  "
            ]
          },
          "metadata": {},
          "execution_count": 4
        }
      ]
    },
    {
      "cell_type": "code",
      "source": [
        "df['year']=df['itml.calday'].astype('str').str.slice(0,4)"
      ],
      "metadata": {
        "id": "JP6s4vyojS8t"
      },
      "execution_count": null,
      "outputs": []
    },
    {
      "cell_type": "code",
      "source": [
        "df['month']=df['itml.calday'].astype('str').str.slice(4,6)"
      ],
      "metadata": {
        "id": "pqucTUtPkEAK"
      },
      "execution_count": null,
      "outputs": []
    },
    {
      "cell_type": "code",
      "source": [
        "df['day']=df['itml.calday'].astype('str').str.slice(6,8)"
      ],
      "metadata": {
        "id": "352KOjiywKV5"
      },
      "execution_count": null,
      "outputs": []
    },
    {
      "cell_type": "code",
      "source": [
        "df[['year','month','day']]=df[['year','month','day']].astype('int')"
      ],
      "metadata": {
        "id": "xGGGUX09wj7M"
      },
      "execution_count": null,
      "outputs": []
    },
    {
      "cell_type": "code",
      "source": [
        "def wd(day):\n",
        "  if day >4:\n",
        "    return 1\n",
        "  else:\n",
        "    return 0\n",
        "df['weekend']=df.apply(lambda x: wd(x['cal.weekday1']),axis=1)"
      ],
      "metadata": {
        "id": "xaKTVbIsxkME"
      },
      "execution_count": null,
      "outputs": []
    },
    {
      "cell_type": "code",
      "source": [
        "def date(year,month,day):\n",
        "  d=datetime(year,month,day)\n",
        "  return d\n",
        "df['date']=df.apply(lambda x: date(x['year'],x['month'],x['day']),axis=1)"
      ],
      "metadata": {
        "id": "a4yKZcPz021L"
      },
      "execution_count": null,
      "outputs": []
    },
    {
      "cell_type": "code",
      "source": [
        "def is_holiday(x):\n",
        "  ru_holidays=holidays.Russia(years=[2022,2023])\n",
        "  if ru_holidays.get(x):\n",
        "    return 1\n",
        "  else:\n",
        "    return 0\n",
        "df['holidays']=df['date'].apply(is_holiday)\n",
        "df.head()"
      ],
      "metadata": {
        "colab": {
          "base_uri": "https://localhost:8080/",
          "height": 206
        },
        "id": "pGMOXE-01alU",
        "outputId": "b1e5d3eb-80f6-41b5-c747-0e2e0e5c44ad"
      },
      "execution_count": null,
      "outputs": [
        {
          "output_type": "execute_result",
          "data": {
            "text/plain": [
              "   itml.calday  cal.weekday1 pl.zcomdir flag_p flag_pl  podcatge        nns  \\\n",
              "0     20220101             6       CD05  Promo   Brand    250202     544.56   \n",
              "1     20220101             6       CD04  Promo   Brand    250205     125.67   \n",
              "2     20220101             6       CD06  Promo   Brand    250205     773.38   \n",
              "3     20220101             6       CD04  Promo   Brand    250301   31720.97   \n",
              "4     20220101             6       CD05  Promo   Brand    250301  113181.22   \n",
              "\n",
              "   year  month  day  weekend       date  holidays  \n",
              "0  2022      1    1        1 2022-01-01         1  \n",
              "1  2022      1    1        1 2022-01-01         1  \n",
              "2  2022      1    1        1 2022-01-01         1  \n",
              "3  2022      1    1        1 2022-01-01         1  \n",
              "4  2022      1    1        1 2022-01-01         1  "
            ],
            "text/html": [
              "\n",
              "  <div id=\"df-e8383e9d-9846-4c83-9625-c07b1496b0b2\">\n",
              "    <div class=\"colab-df-container\">\n",
              "      <div>\n",
              "<style scoped>\n",
              "    .dataframe tbody tr th:only-of-type {\n",
              "        vertical-align: middle;\n",
              "    }\n",
              "\n",
              "    .dataframe tbody tr th {\n",
              "        vertical-align: top;\n",
              "    }\n",
              "\n",
              "    .dataframe thead th {\n",
              "        text-align: right;\n",
              "    }\n",
              "</style>\n",
              "<table border=\"1\" class=\"dataframe\">\n",
              "  <thead>\n",
              "    <tr style=\"text-align: right;\">\n",
              "      <th></th>\n",
              "      <th>itml.calday</th>\n",
              "      <th>cal.weekday1</th>\n",
              "      <th>pl.zcomdir</th>\n",
              "      <th>flag_p</th>\n",
              "      <th>flag_pl</th>\n",
              "      <th>podcatge</th>\n",
              "      <th>nns</th>\n",
              "      <th>year</th>\n",
              "      <th>month</th>\n",
              "      <th>day</th>\n",
              "      <th>weekend</th>\n",
              "      <th>date</th>\n",
              "      <th>holidays</th>\n",
              "    </tr>\n",
              "  </thead>\n",
              "  <tbody>\n",
              "    <tr>\n",
              "      <th>0</th>\n",
              "      <td>20220101</td>\n",
              "      <td>6</td>\n",
              "      <td>CD05</td>\n",
              "      <td>Promo</td>\n",
              "      <td>Brand</td>\n",
              "      <td>250202</td>\n",
              "      <td>544.56</td>\n",
              "      <td>2022</td>\n",
              "      <td>1</td>\n",
              "      <td>1</td>\n",
              "      <td>1</td>\n",
              "      <td>2022-01-01</td>\n",
              "      <td>1</td>\n",
              "    </tr>\n",
              "    <tr>\n",
              "      <th>1</th>\n",
              "      <td>20220101</td>\n",
              "      <td>6</td>\n",
              "      <td>CD04</td>\n",
              "      <td>Promo</td>\n",
              "      <td>Brand</td>\n",
              "      <td>250205</td>\n",
              "      <td>125.67</td>\n",
              "      <td>2022</td>\n",
              "      <td>1</td>\n",
              "      <td>1</td>\n",
              "      <td>1</td>\n",
              "      <td>2022-01-01</td>\n",
              "      <td>1</td>\n",
              "    </tr>\n",
              "    <tr>\n",
              "      <th>2</th>\n",
              "      <td>20220101</td>\n",
              "      <td>6</td>\n",
              "      <td>CD06</td>\n",
              "      <td>Promo</td>\n",
              "      <td>Brand</td>\n",
              "      <td>250205</td>\n",
              "      <td>773.38</td>\n",
              "      <td>2022</td>\n",
              "      <td>1</td>\n",
              "      <td>1</td>\n",
              "      <td>1</td>\n",
              "      <td>2022-01-01</td>\n",
              "      <td>1</td>\n",
              "    </tr>\n",
              "    <tr>\n",
              "      <th>3</th>\n",
              "      <td>20220101</td>\n",
              "      <td>6</td>\n",
              "      <td>CD04</td>\n",
              "      <td>Promo</td>\n",
              "      <td>Brand</td>\n",
              "      <td>250301</td>\n",
              "      <td>31720.97</td>\n",
              "      <td>2022</td>\n",
              "      <td>1</td>\n",
              "      <td>1</td>\n",
              "      <td>1</td>\n",
              "      <td>2022-01-01</td>\n",
              "      <td>1</td>\n",
              "    </tr>\n",
              "    <tr>\n",
              "      <th>4</th>\n",
              "      <td>20220101</td>\n",
              "      <td>6</td>\n",
              "      <td>CD05</td>\n",
              "      <td>Promo</td>\n",
              "      <td>Brand</td>\n",
              "      <td>250301</td>\n",
              "      <td>113181.22</td>\n",
              "      <td>2022</td>\n",
              "      <td>1</td>\n",
              "      <td>1</td>\n",
              "      <td>1</td>\n",
              "      <td>2022-01-01</td>\n",
              "      <td>1</td>\n",
              "    </tr>\n",
              "  </tbody>\n",
              "</table>\n",
              "</div>\n",
              "      <button class=\"colab-df-convert\" onclick=\"convertToInteractive('df-e8383e9d-9846-4c83-9625-c07b1496b0b2')\"\n",
              "              title=\"Convert this dataframe to an interactive table.\"\n",
              "              style=\"display:none;\">\n",
              "        \n",
              "  <svg xmlns=\"http://www.w3.org/2000/svg\" height=\"24px\"viewBox=\"0 0 24 24\"\n",
              "       width=\"24px\">\n",
              "    <path d=\"M0 0h24v24H0V0z\" fill=\"none\"/>\n",
              "    <path d=\"M18.56 5.44l.94 2.06.94-2.06 2.06-.94-2.06-.94-.94-2.06-.94 2.06-2.06.94zm-11 1L8.5 8.5l.94-2.06 2.06-.94-2.06-.94L8.5 2.5l-.94 2.06-2.06.94zm10 10l.94 2.06.94-2.06 2.06-.94-2.06-.94-.94-2.06-.94 2.06-2.06.94z\"/><path d=\"M17.41 7.96l-1.37-1.37c-.4-.4-.92-.59-1.43-.59-.52 0-1.04.2-1.43.59L10.3 9.45l-7.72 7.72c-.78.78-.78 2.05 0 2.83L4 21.41c.39.39.9.59 1.41.59.51 0 1.02-.2 1.41-.59l7.78-7.78 2.81-2.81c.8-.78.8-2.07 0-2.86zM5.41 20L4 18.59l7.72-7.72 1.47 1.35L5.41 20z\"/>\n",
              "  </svg>\n",
              "      </button>\n",
              "      \n",
              "  <style>\n",
              "    .colab-df-container {\n",
              "      display:flex;\n",
              "      flex-wrap:wrap;\n",
              "      gap: 12px;\n",
              "    }\n",
              "\n",
              "    .colab-df-convert {\n",
              "      background-color: #E8F0FE;\n",
              "      border: none;\n",
              "      border-radius: 50%;\n",
              "      cursor: pointer;\n",
              "      display: none;\n",
              "      fill: #1967D2;\n",
              "      height: 32px;\n",
              "      padding: 0 0 0 0;\n",
              "      width: 32px;\n",
              "    }\n",
              "\n",
              "    .colab-df-convert:hover {\n",
              "      background-color: #E2EBFA;\n",
              "      box-shadow: 0px 1px 2px rgba(60, 64, 67, 0.3), 0px 1px 3px 1px rgba(60, 64, 67, 0.15);\n",
              "      fill: #174EA6;\n",
              "    }\n",
              "\n",
              "    [theme=dark] .colab-df-convert {\n",
              "      background-color: #3B4455;\n",
              "      fill: #D2E3FC;\n",
              "    }\n",
              "\n",
              "    [theme=dark] .colab-df-convert:hover {\n",
              "      background-color: #434B5C;\n",
              "      box-shadow: 0px 1px 3px 1px rgba(0, 0, 0, 0.15);\n",
              "      filter: drop-shadow(0px 1px 2px rgba(0, 0, 0, 0.3));\n",
              "      fill: #FFFFFF;\n",
              "    }\n",
              "  </style>\n",
              "\n",
              "      <script>\n",
              "        const buttonEl =\n",
              "          document.querySelector('#df-e8383e9d-9846-4c83-9625-c07b1496b0b2 button.colab-df-convert');\n",
              "        buttonEl.style.display =\n",
              "          google.colab.kernel.accessAllowed ? 'block' : 'none';\n",
              "\n",
              "        async function convertToInteractive(key) {\n",
              "          const element = document.querySelector('#df-e8383e9d-9846-4c83-9625-c07b1496b0b2');\n",
              "          const dataTable =\n",
              "            await google.colab.kernel.invokeFunction('convertToInteractive',\n",
              "                                                     [key], {});\n",
              "          if (!dataTable) return;\n",
              "\n",
              "          const docLinkHtml = 'Like what you see? Visit the ' +\n",
              "            '<a target=\"_blank\" href=https://colab.research.google.com/notebooks/data_table.ipynb>data table notebook</a>'\n",
              "            + ' to learn more about interactive tables.';\n",
              "          element.innerHTML = '';\n",
              "          dataTable['output_type'] = 'display_data';\n",
              "          await google.colab.output.renderOutput(dataTable, element);\n",
              "          const docLink = document.createElement('div');\n",
              "          docLink.innerHTML = docLinkHtml;\n",
              "          element.appendChild(docLink);\n",
              "        }\n",
              "      </script>\n",
              "    </div>\n",
              "  </div>\n",
              "  "
            ]
          },
          "metadata": {},
          "execution_count": 13
        }
      ]
    },
    {
      "cell_type": "code",
      "source": [
        "df=df.drop(['itml.calday','cal.weekday1','date','year'],axis=1)"
      ],
      "metadata": {
        "id": "Rv5IUaCl997V"
      },
      "execution_count": null,
      "outputs": []
    },
    {
      "cell_type": "code",
      "source": [
        "df=pd.get_dummies(df)"
      ],
      "metadata": {
        "id": "7x6PZ05E-SSj"
      },
      "execution_count": null,
      "outputs": []
    },
    {
      "cell_type": "code",
      "source": [
        "df=df[['podcatge', 'month', 'day', 'weekend', 'holidays',\n",
        "       'pl.zcomdir_CD01', 'pl.zcomdir_CD02', 'pl.zcomdir_CD03',\n",
        "       'pl.zcomdir_CD04', 'pl.zcomdir_CD05', 'pl.zcomdir_CD06', 'flag_p_Promo',\n",
        "       'flag_p_Regular', 'flag_pl_Brand', 'flag_pl_PrLabel','nns']]"
      ],
      "metadata": {
        "id": "lozGYO8q-gdB"
      },
      "execution_count": null,
      "outputs": []
    },
    {
      "cell_type": "code",
      "source": [
        "sb.distplot(df['nns']);\n",
        "\n"
      ],
      "metadata": {
        "colab": {
          "base_uri": "https://localhost:8080/",
          "height": 491
        },
        "id": "GYttBcfe-tf6",
        "outputId": "714e1ed6-ff0b-4881-c1c7-9ae1d507321b"
      },
      "execution_count": null,
      "outputs": [
        {
          "output_type": "stream",
          "name": "stderr",
          "text": [
            "<ipython-input-17-8aca00c8d566>:1: UserWarning: \n",
            "\n",
            "`distplot` is a deprecated function and will be removed in seaborn v0.14.0.\n",
            "\n",
            "Please adapt your code to use either `displot` (a figure-level function with\n",
            "similar flexibility) or `histplot` (an axes-level function for histograms).\n",
            "\n",
            "For a guide to updating your code to use the new functions, please see\n",
            "https://gist.github.com/mwaskom/de44147ed2974457ad6372750bbe5751\n",
            "\n",
            "  sb.distplot(df['nns']);\n"
          ]
        },
        {
          "output_type": "display_data",
          "data": {
            "text/plain": [
              "<Figure size 432x288 with 1 Axes>"
            ],
            "image/png": "[encoded data removed]"
          },
          "metadata": {
            "needs_background": "light"
          }
        }
      ]
    },
    {
      "cell_type": "code",
      "source": [
        "sb.boxplot(df['nns'],x=df['nns'])"
      ],
      "metadata": {
        "colab": {
          "base_uri": "https://localhost:8080/",
          "height": 297
        },
        "id": "55ACl35cA0OR",
        "outputId": "b725ceb2-c975-4862-cfe2-f472ae1987d7"
      },
      "execution_count": null,
      "outputs": [
        {
          "output_type": "execute_result",
          "data": {
            "text/plain": [
              "<Axes: xlabel='nns'>"
            ]
          },
          "metadata": {},
          "execution_count": 18
        },
        {
          "output_type": "display_data",
          "data": {
            "text/plain": [
              "<Figure size 432x288 with 1 Axes>"
            ],
            "image/png": "[encoded data removed]"
          },
          "metadata": {
            "needs_background": "light"
          }
        }
      ]
    },
    {
      "cell_type": "code",
      "source": [
        "sb.heatmap(df.corr()>0.7)"
      ],
      "metadata": {
        "colab": {
          "base_uri": "https://localhost:8080/",
          "height": 362
        },
        "id": "lfP1EjuTB9iT",
        "outputId": "c853e204-2bd5-4e32-d229-3a5426628dab"
      },
      "execution_count": null,
      "outputs": [
        {
          "output_type": "execute_result",
          "data": {
            "text/plain": [
              "<Axes: >"
            ]
          },
          "metadata": {},
          "execution_count": 19
        },
        {
          "output_type": "display_data",
          "data": {
            "text/plain": [
              "<Figure size 432x288 with 2 Axes>"
            ],
            "image/png": "[encoded data removed]"
          },
          "metadata": {
            "needs_background": "light"
          }
        }
      ]
    },
    {
      "cell_type": "code",
      "source": [
        "df=df[df['nns']<100000]"
      ],
      "metadata": {
        "id": "CNXCaE6WCmqw"
      },
      "execution_count": null,
      "outputs": []
    },
    {
      "cell_type": "code",
      "source": [
        "X=df.iloc[:,0:-1]\n",
        "Y=df.iloc[:,-1]"
      ],
      "metadata": {
        "id": "Yyon9bWBDV44"
      },
      "execution_count": null,
      "outputs": []
    },
    {
      "cell_type": "code",
      "source": [
        "x_train,x_test,y_train,y_test=train_test_split(X,Y,test_size=0.05,random_state=22)"
      ],
      "metadata": {
        "id": "rnD2GeNfDVWP"
      },
      "execution_count": null,
      "outputs": []
    },
    {
      "cell_type": "code",
      "source": [
        "scaler= StandardScaler()\n",
        "x_train=scaler.fit_transform(x_train)\n",
        "x_test=scaler.transform(x_test)"
      ],
      "metadata": {
        "id": "cXOVigjsDJqd"
      },
      "execution_count": null,
      "outputs": []
    },
    {
      "cell_type": "code",
      "source": [
        "models = [LinearRegression(),Ridge(),Lasso(),ElasticNet(),KNeighborsRegressor(),DecisionTreeRegressor(),SGDRegressor(),LinearSVR()]\n",
        "for i in range(len(models)):\n",
        "  models[i].fit(x_train,y_train)\n",
        "  print(f'{models[i]} : ')\n",
        "  y_pred=models[i].predict(x_test)\n",
        "  print(r2_score(y_test,y_pred))\n",
        "  print(mse(y_test,y_pred)**0.5)\n",
        "  print()"
      ],
      "metadata": {
        "colab": {
          "base_uri": "https://localhost:8080/"
        },
        "id": "DhrE4YHNDinS",
        "outputId": "ba9fdb7e-d2e0-4ff9-c35a-8b4bb31e4654"
      },
      "execution_count": null,
      "outputs": [
        {
          "output_type": "stream",
          "name": "stdout",
          "text": [
            "LinearRegression() : \n",
            "0.0825986398927977\n",
            "21928.885215302307\n",
            "\n",
            "Ridge() : \n",
            "0.0825986411997951\n",
            "21928.885199681554\n",
            "\n",
            "Lasso() : \n",
            "0.08259895478483892\n",
            "21928.881451828478\n",
            "\n",
            "ElasticNet() : \n",
            "0.07753491464218298\n",
            "21989.321709225886\n",
            "\n",
            "KNeighborsRegressor() : \n",
            "-0.041088874742611026\n",
            "23360.426480853122\n",
            "\n",
            "DecisionTreeRegressor() : \n",
            "0.7890941570506964\n",
            "10514.319510251671\n",
            "\n",
            "SGDRegressor() : \n",
            "0.08223659261858995\n",
            "21933.21184392911\n",
            "\n",
            "LinearSVR() : \n",
            "-0.08767442864614172\n",
            "23877.360894866248\n",
            "\n"
          ]
        }
      ]
    },
    {
      "cell_type": "code",
      "source": [
        "kfold=KFold(n_splits = 10, random_state = 7, shuffle = True)\n",
        "model=DecisionTreeRegressor()\n",
        "nmse=cross_val_score(model, X, Y, cv=kfold, scoring='neg_mean_squared_error')\n",
        "print(nmse.mean())\n",
        "print(nmse.std())"
      ],
      "metadata": {
        "colab": {
          "base_uri": "https://localhost:8080/"
        },
        "id": "-pwWYSS-U7jp",
        "outputId": "3b2c5c30-8236-42b1-94a2-e6350a3ceaf0"
      },
      "execution_count": null,
      "outputs": [
        {
          "output_type": "stream",
          "name": "stdout",
          "text": [
            "-106265239.78456874\n",
            "2333451.2868872\n"
          ]
        }
      ]
    },
    {
      "cell_type": "code",
      "source": [
        "nmse=cross_val_score(model, X, Y, cv=kfold, scoring='r2')\n",
        "print(nmse.mean())\n",
        "print(nmse.std())"
      ],
      "metadata": {
        "colab": {
          "base_uri": "https://localhost:8080/"
        },
        "id": "7NC7gi8fXFgE",
        "outputId": "49124403-276e-4f0e-c2c4-bb4973dcab3e"
      },
      "execution_count": null,
      "outputs": [
        {
          "output_type": "stream",
          "name": "stdout",
          "text": [
            "0.7934068645688427\n",
            "0.004205501213554733\n"
          ]
        }
      ]
    }
  ]
}